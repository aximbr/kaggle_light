{
 "cells": [
  {
   "cell_type": "markdown",
   "metadata": {
    "papermill": {
     "duration": 0.038269,
     "end_time": "2022-07-03T10:43:05.237376",
     "exception": false,
     "start_time": "2022-07-03T10:43:05.199107",
     "status": "completed"
    },
    "tags": []
   },
   "source": [
    "# Hello and welcome to my feature importance tutorial!\n",
    "\n",
    "\n",
    "**In this tutorial i will focus on feature importance and feature selection, i will simply show and explain some common feature selection methods and techniques that reveal information about the importance and other properties of features. I will not focus on performance of models or optimizing parameters.**    \n",
    "\n",
    "**This tutorial will have a lot of comments on why certain things are done in this way and why a different approach could be problematic or not, I definitely recommend doing all the\n",
    "kaggle learn courses before reading through this tutorial.**\n",
    "\n",
    "\n",
    "**This notebook is oriented towards this tutorial:**  https://www.kaggle.com/apapiu/regularized-linear-models/notebook\n",
    "\n",
    "\n",
    "**Hopefully it will be helpful for some of you.**\n",
    "\n",
    "\n",
    "**Feel free to comment and ask questions :)**"
   ]
  },
  {
   "cell_type": "code",
   "execution_count": 2,
   "metadata": {
    "_cell_guid": "b1076dfc-b9ad-4769-8c92-a6c4dae69d19",
    "_uuid": "8f2839f25d086af736a60e9eeb907d3b93b6e0e5",
    "execution": {
     "iopub.execute_input": "2022-07-03T10:43:05.308844Z",
     "iopub.status.busy": "2022-07-03T10:43:05.307829Z",
     "iopub.status.idle": "2022-07-03T10:43:05.317472Z",
     "shell.execute_reply": "2022-07-03T10:43:05.318055Z"
    },
    "papermill": {
     "duration": 0.047051,
     "end_time": "2022-07-03T10:43:05.318250",
     "exception": false,
     "start_time": "2022-07-03T10:43:05.271199",
     "status": "completed"
    },
    "tags": []
   },
   "outputs": [
    {
     "name": "stdout",
     "output_type": "stream",
     "text": [
      "/kaggle/input/house-prices-advanced-regression-techniques/data_description.txt\n",
      "/kaggle/input/house-prices-advanced-regression-techniques/sample_submission.csv\n",
      "/kaggle/input/house-prices-advanced-regression-techniques/test.csv\n",
      "/kaggle/input/house-prices-advanced-regression-techniques/train.csv\n"
     ]
    }
   ],
   "source": [
    "# This Python 3 environment comes with many helpful analytics libraries installed\n",
    "# It is defined by the kaggle/python Docker image: https://github.com/kaggle/docker-python\n",
    "# For example, here's several helpful packages to load\n",
    "\n",
    "import numpy as np # linear algebra\n",
    "import pandas as pd # data processing, CSV file I/O (e.g. pd.read_csv)\n",
    "\n",
    "# Input data files are available in the read-only \"../input/\" directory\n",
    "# For example, running this (by clicking run or pressing Shift+Enter) will list all files under the input directory\n",
    "\n",
    "import os\n",
    "for dirname, _, filenames in os.walk('/kaggle/input'):\n",
    "    for filename in filenames:\n",
    "        print(os.path.join(dirname, filename))\n",
    "\n",
    "# You can write up to 5GB to the current directory (/kaggle/working/) that gets preserved as output when you create a version using \"Save & Run All\" \n",
    "# You can also write temporary files to /kaggle/temp/, but they won't be saved outside of the current session"
   ]
  },
  {
   "cell_type": "markdown",
   "metadata": {
    "papermill": {
     "duration": 0.034827,
     "end_time": "2022-07-03T10:43:05.389171",
     "exception": false,
     "start_time": "2022-07-03T10:43:05.354344",
     "status": "completed"
    },
    "tags": []
   },
   "source": [
    "# Overview\n",
    " \n",
    "## '1'. Data preparation\n",
    " \n",
    "1. load data\n",
    "1. concat train and test data to one dataframe\n",
    "1. log1p transform target 'SalePrice'\n",
    "1. determine numeric features \n",
    "1. calculate skewness and pick skewed features, then log1p transform them\n",
    "1. dummy encode categorical variables of entire dataframe\n",
    "1. fill all NaNs with mean of column\n",
    "1. split up into X_train, X_test and target y\n",
    "\n",
    "## '2'. Correlations of features\n",
    "\n",
    "1. Analyze cross-correlation matrix    \n",
    "    \n",
    "    \n",
    "## '3'. Use coefficients of linear models\n",
    "\n",
    "1. Ridge model with L2 regularization\n",
    "2. Lasso model with L1 regularization\n",
    "3. RandomForestRegressor\n",
    "    \n",
    "    \n",
    "## '4'. General feature selection methods\n",
    "    \n",
    "1. SelectKBest\n",
    "2. Permutation importance\n",
    "3. Shap values\n",
    "4. Recursive feature elimination"
   ]
  },
  {
   "cell_type": "code",
   "execution_count": 4,
   "metadata": {
    "_cell_guid": "79c7e3d0-c299-4dcb-8224-4455121ee9b0",
    "_uuid": "d629ff2d2480ee46fbb7e2d37f6b5fab8052498a",
    "execution": {
     "iopub.execute_input": "2022-07-03T10:43:05.461936Z",
     "iopub.status.busy": "2022-07-03T10:43:05.461269Z",
     "iopub.status.idle": "2022-07-03T10:43:06.631852Z",
     "shell.execute_reply": "2022-07-03T10:43:06.632481Z"
    },
    "papermill": {
     "duration": 1.208524,
     "end_time": "2022-07-03T10:43:06.632643",
     "exception": false,
     "start_time": "2022-07-03T10:43:05.424119",
     "status": "completed"
    },
    "tags": []
   },
   "outputs": [
    {
     "name": "stdout",
     "output_type": "stream",
     "text": [
      "   Id  MSSubClass MSZoning  LotFrontage  LotArea Street Alley LotShape  \\\n",
      "0   1          60       RL         65.0     8450   Pave   NaN      Reg   \n",
      "1   2          20       RL         80.0     9600   Pave   NaN      Reg   \n",
      "2   3          60       RL         68.0    11250   Pave   NaN      IR1   \n",
      "3   4          70       RL         60.0     9550   Pave   NaN      IR1   \n",
      "4   5          60       RL         84.0    14260   Pave   NaN      IR1   \n",
      "\n",
      "  LandContour Utilities  ... PoolArea PoolQC Fence MiscFeature MiscVal MoSold  \\\n",
      "0         Lvl    AllPub  ...        0    NaN   NaN         NaN       0      2   \n",
      "1         Lvl    AllPub  ...        0    NaN   NaN         NaN       0      5   \n",
      "2         Lvl    AllPub  ...        0    NaN   NaN         NaN       0      9   \n",
      "3         Lvl    AllPub  ...        0    NaN   NaN         NaN       0      2   \n",
      "4         Lvl    AllPub  ...        0    NaN   NaN         NaN       0     12   \n",
      "\n",
      "  YrSold  SaleType  SaleCondition  SalePrice  \n",
      "0   2008        WD         Normal     208500  \n",
      "1   2007        WD         Normal     181500  \n",
      "2   2008        WD         Normal     223500  \n",
      "3   2006        WD        Abnorml     140000  \n",
      "4   2008        WD         Normal     250000  \n",
      "\n",
      "[5 rows x 81 columns] \n",
      "\n",
      "<class 'pandas.core.frame.DataFrame'>\n",
      "RangeIndex: 1460 entries, 0 to 1459\n",
      "Data columns (total 81 columns):\n",
      " #   Column         Non-Null Count  Dtype  \n",
      "---  ------         --------------  -----  \n",
      " 0   Id             1460 non-null   int64  \n",
      " 1   MSSubClass     1460 non-null   int64  \n",
      " 2   MSZoning       1460 non-null   object \n",
      " 3   LotFrontage    1201 non-null   float64\n",
      " 4   LotArea        1460 non-null   int64  \n",
      " 5   Street         1460 non-null   object \n",
      " 6   Alley          91 non-null     object \n",
      " 7   LotShape       1460 non-null   object \n",
      " 8   LandContour    1460 non-null   object \n",
      " 9   Utilities      1460 non-null   object \n",
      " 10  LotConfig      1460 non-null   object \n",
      " 11  LandSlope      1460 non-null   object \n",
      " 12  Neighborhood   1460 non-null   object \n",
      " 13  Condition1     1460 non-null   object \n",
      " 14  Condition2     1460 non-null   object \n",
      " 15  BldgType       1460 non-null   object \n",
      " 16  HouseStyle     1460 non-null   object \n",
      " 17  OverallQual    1460 non-null   int64  \n",
      " 18  OverallCond    1460 non-null   int64  \n",
      " 19  YearBuilt      1460 non-null   int64  \n",
      " 20  YearRemodAdd   1460 non-null   int64  \n",
      " 21  RoofStyle      1460 non-null   object \n",
      " 22  RoofMatl       1460 non-null   object \n",
      " 23  Exterior1st    1460 non-null   object \n",
      " 24  Exterior2nd    1460 non-null   object \n",
      " 25  MasVnrType     588 non-null    object \n",
      " 26  MasVnrArea     1452 non-null   float64\n",
      " 27  ExterQual      1460 non-null   object \n",
      " 28  ExterCond      1460 non-null   object \n",
      " 29  Foundation     1460 non-null   object \n",
      " 30  BsmtQual       1423 non-null   object \n",
      " 31  BsmtCond       1423 non-null   object \n",
      " 32  BsmtExposure   1422 non-null   object \n",
      " 33  BsmtFinType1   1423 non-null   object \n",
      " 34  BsmtFinSF1     1460 non-null   int64  \n",
      " 35  BsmtFinType2   1422 non-null   object \n",
      " 36  BsmtFinSF2     1460 non-null   int64  \n",
      " 37  BsmtUnfSF      1460 non-null   int64  \n",
      " 38  TotalBsmtSF    1460 non-null   int64  \n",
      " 39  Heating        1460 non-null   object \n",
      " 40  HeatingQC      1460 non-null   object \n",
      " 41  CentralAir     1460 non-null   object \n",
      " 42  Electrical     1459 non-null   object \n",
      " 43  1stFlrSF       1460 non-null   int64  \n",
      " 44  2ndFlrSF       1460 non-null   int64  \n",
      " 45  LowQualFinSF   1460 non-null   int64  \n",
      " 46  GrLivArea      1460 non-null   int64  \n",
      " 47  BsmtFullBath   1460 non-null   int64  \n",
      " 48  BsmtHalfBath   1460 non-null   int64  \n",
      " 49  FullBath       1460 non-null   int64  \n",
      " 50  HalfBath       1460 non-null   int64  \n",
      " 51  BedroomAbvGr   1460 non-null   int64  \n",
      " 52  KitchenAbvGr   1460 non-null   int64  \n",
      " 53  KitchenQual    1460 non-null   object \n",
      " 54  TotRmsAbvGrd   1460 non-null   int64  \n",
      " 55  Functional     1460 non-null   object \n",
      " 56  Fireplaces     1460 non-null   int64  \n",
      " 57  FireplaceQu    770 non-null    object \n",
      " 58  GarageType     1379 non-null   object \n",
      " 59  GarageYrBlt    1379 non-null   float64\n",
      " 60  GarageFinish   1379 non-null   object \n",
      " 61  GarageCars     1460 non-null   int64  \n",
      " 62  GarageArea     1460 non-null   int64  \n",
      " 63  GarageQual     1379 non-null   object \n",
      " 64  GarageCond     1379 non-null   object \n",
      " 65  PavedDrive     1460 non-null   object \n",
      " 66  WoodDeckSF     1460 non-null   int64  \n",
      " 67  OpenPorchSF    1460 non-null   int64  \n",
      " 68  EnclosedPorch  1460 non-null   int64  \n",
      " 69  3SsnPorch      1460 non-null   int64  \n",
      " 70  ScreenPorch    1460 non-null   int64  \n",
      " 71  PoolArea       1460 non-null   int64  \n",
      " 72  PoolQC         7 non-null      object \n",
      " 73  Fence          281 non-null    object \n",
      " 74  MiscFeature    54 non-null     object \n",
      " 75  MiscVal        1460 non-null   int64  \n",
      " 76  MoSold         1460 non-null   int64  \n",
      " 77  YrSold         1460 non-null   int64  \n",
      " 78  SaleType       1460 non-null   object \n",
      " 79  SaleCondition  1460 non-null   object \n",
      " 80  SalePrice      1460 non-null   int64  \n",
      "dtypes: float64(3), int64(35), object(43)\n",
      "memory usage: 924.0+ KB\n",
      "None\n"
     ]
    },
    {
     "name": "stderr",
     "output_type": "stream",
     "text": [
      "/tmp/ipykernel_3665/3192234143.py:5: DeprecationWarning: Please import `pearsonr` from the `scipy.stats` namespace; the `scipy.stats.stats` namespace is deprecated and will be removed in SciPy 2.0.0.\n",
      "  from scipy.stats.stats import pearsonr\n"
     ]
    }
   ],
   "source": [
    "import seaborn as sns\n",
    "import matplotlib\n",
    "import matplotlib.pyplot as plt\n",
    "from scipy.stats import skew\n",
    "from scipy.stats.stats import pearsonr\n",
    "\n",
    "\n",
    "train = pd.read_csv(\"/kaggle/input/house-prices-advanced-regression-techniques/train.csv\")\n",
    "test = pd.read_csv(\"/kaggle/input/house-prices-advanced-regression-techniques/test.csv\")\n",
    "\n",
    "print(train.head(), \"\\n\")\n",
    "print(train.info())"
   ]
  },
  {
   "cell_type": "markdown",
   "metadata": {
    "papermill": {
     "duration": 0.03521,
     "end_time": "2022-07-03T10:43:06.703167",
     "exception": false,
     "start_time": "2022-07-03T10:43:06.667957",
     "status": "completed"
    },
    "tags": []
   },
   "source": [
    "# 1. Data preparation\n",
    "\n",
    "This tutorial for now  focuses on feature selection and feature importance,  hence we will only do some rudimentary data processing,\n",
    "such that we can fit our models. Some methods, like the dummy encoding of our target 'SalePrice' and replacing missing values are necessary \n",
    "such that the code works at all, some methods are used for getting more accurate results. \n",
    "\n",
    "\n",
    "1. Transform the skewed numeric features by taking log(feature + 1) - this will make the features more normal \n",
    "2. Dummy encode all the categorical features\n",
    "3. Replace the numeric missing values (NaN's) with the mean of their respective columns"
   ]
  },
  {
   "cell_type": "code",
   "execution_count": null,
   "metadata": {
    "execution": {
     "iopub.execute_input": "2022-07-03T10:43:06.793586Z",
     "iopub.status.busy": "2022-07-03T10:43:06.792294Z",
     "iopub.status.idle": "2022-07-03T10:43:07.233687Z",
     "shell.execute_reply": "2022-07-03T10:43:07.232902Z"
    },
    "papermill": {
     "duration": 0.493298,
     "end_time": "2022-07-03T10:43:07.233817",
     "exception": false,
     "start_time": "2022-07-03T10:43:06.740519",
     "status": "completed"
    },
    "tags": []
   },
   "outputs": [],
   "source": [
    "# we dont want to include our target SalePrice in our data, \n",
    "# hence we pick all columns except SalePrice\n",
    "\n",
    "all_data = pd.concat((train.loc[:,'MSSubClass':'SaleCondition'],\n",
    "                      test.loc[:,'MSSubClass':'SaleCondition']))   \n",
    "\n",
    "\n",
    "# now we plot the original and the log1p-transformed target SalePrice to see how it looks \n",
    "\n",
    "prices = pd.DataFrame({\"price\":train[\"SalePrice\"], \"log(1+price)\":np.log1p(train[\"SalePrice\"])})  \n",
    "prices.hist()"
   ]
  },
  {
   "cell_type": "markdown",
   "metadata": {
    "papermill": {
     "duration": 0.035656,
     "end_time": "2022-07-03T10:43:07.306166",
     "exception": false,
     "start_time": "2022-07-03T10:43:07.270510",
     "status": "completed"
    },
    "tags": []
   },
   "source": [
    "**As we can see, the log1p transformed SalePrice looks much closer to a normal distribution than before.**"
   ]
  },
  {
   "cell_type": "code",
   "execution_count": null,
   "metadata": {
    "execution": {
     "iopub.execute_input": "2022-07-03T10:43:07.388767Z",
     "iopub.status.busy": "2022-07-03T10:43:07.387698Z",
     "iopub.status.idle": "2022-07-03T10:43:07.721204Z",
     "shell.execute_reply": "2022-07-03T10:43:07.720386Z"
    },
    "papermill": {
     "duration": 0.378912,
     "end_time": "2022-07-03T10:43:07.721326",
     "exception": false,
     "start_time": "2022-07-03T10:43:07.342414",
     "status": "completed"
    },
    "tags": []
   },
   "outputs": [],
   "source": [
    "#log1p transform the target:\n",
    "train[\"SalePrice\"] = np.log1p(train[\"SalePrice\"])\n",
    "\n",
    "# exclude all columns that have 'object' as dtype to get numeric columns \n",
    "numeric_feats = all_data.dtypes[all_data.dtypes != \"object\"].index\n",
    "\n",
    "\n",
    "# compute skewness of numeric features, but\n",
    "# drop NaNs since they cause errors in the skewness computation\n",
    "\n",
    "skewed_feats = train[numeric_feats].apply(lambda x: skew(x.dropna())) \n",
    "\n",
    "\n",
    "# Now we want to plot the skewness of all numeric features\n",
    "# you can also use sns.barplot(), but i find this version prettier than the sns.barplot\n",
    "\n",
    "skewed_feats.head(30).plot(kind='barh', figsize=(10,6))    \n",
    "\n",
    "\n",
    "# As you maybe already know, positive skewness can be transformed nicely with a log plot\n",
    "# to make the feature 'more' normal distributed.\n",
    "# Here we choose a threshold of 0.75 for the skewness, threshold must be exceeded,\n",
    "# such that this skewed feature gets log1p transformed.\n",
    "\n",
    "\n",
    "skewed_feats = skewed_feats[skewed_feats > 0.75]\n",
    "\n",
    "all_data[skewed_feats.index] = np.log1p(all_data[skewed_feats.index])  \n",
    "\n",
    "#print(all_data)"
   ]
  },
  {
   "cell_type": "code",
   "execution_count": null,
   "metadata": {
    "execution": {
     "iopub.execute_input": "2022-07-03T10:43:07.806049Z",
     "iopub.status.busy": "2022-07-03T10:43:07.805318Z",
     "iopub.status.idle": "2022-07-03T10:43:07.948113Z",
     "shell.execute_reply": "2022-07-03T10:43:07.948768Z"
    },
    "papermill": {
     "duration": 0.189062,
     "end_time": "2022-07-03T10:43:07.948948",
     "exception": false,
     "start_time": "2022-07-03T10:43:07.759886",
     "status": "completed"
    },
    "tags": []
   },
   "outputs": [],
   "source": [
    "#  dummy encoding of our entire dataframe, it's necessary for the fitting of models.\n",
    "all_data = pd.get_dummies(all_data)\n",
    "\n",
    "\n",
    "#  filling NA's with the mean of the column, removing missing values/NaNs is always recommended:\n",
    "all_data = all_data.fillna(all_data.mean())\n",
    "\n",
    "print(\"all_data.shape: \", all_data.shape, \"\\n\")\n",
    "print(\"successfully dummy encoded!\")"
   ]
  },
  {
   "cell_type": "code",
   "execution_count": null,
   "metadata": {
    "execution": {
     "iopub.execute_input": "2022-07-03T10:43:08.034099Z",
     "iopub.status.busy": "2022-07-03T10:43:08.033040Z",
     "iopub.status.idle": "2022-07-03T10:43:08.037377Z",
     "shell.execute_reply": "2022-07-03T10:43:08.037848Z"
    },
    "papermill": {
     "duration": 0.051202,
     "end_time": "2022-07-03T10:43:08.038015",
     "exception": false,
     "start_time": "2022-07-03T10:43:07.986813",
     "status": "completed"
    },
    "tags": []
   },
   "outputs": [],
   "source": [
    "#  Now we split up our entire dataset into train data, test data and our target y\n",
    "\n",
    "X_train = all_data[:train.shape[0]]\n",
    "X_test = all_data[train.shape[0]:]\n",
    "y = train.SalePrice\n",
    "\n",
    "del all_data\n",
    "\n",
    "print(X_train.shape)\n",
    "print(X_test.shape)"
   ]
  },
  {
   "cell_type": "markdown",
   "metadata": {
    "papermill": {
     "duration": 0.038864,
     "end_time": "2022-07-03T10:43:08.115115",
     "exception": false,
     "start_time": "2022-07-03T10:43:08.076251",
     "status": "completed"
    },
    "tags": []
   },
   "source": [
    "## 2. Correlations of features\n",
    "\n",
    "**As you maybe already know, highly correlated features in your data can cause problems.**\n",
    "\n",
    "**To analyze the correlations between the features we will create a cross-correlation matrix.**\n",
    "\n",
    "**But first we need to create a dataframe containing only numeric features.**"
   ]
  },
  {
   "cell_type": "code",
   "execution_count": null,
   "metadata": {
    "execution": {
     "iopub.execute_input": "2022-07-03T10:43:08.202890Z",
     "iopub.status.busy": "2022-07-03T10:43:08.202020Z",
     "iopub.status.idle": "2022-07-03T10:43:08.206620Z",
     "shell.execute_reply": "2022-07-03T10:43:08.206045Z"
    },
    "papermill": {
     "duration": 0.051659,
     "end_time": "2022-07-03T10:43:08.206740",
     "exception": false,
     "start_time": "2022-07-03T10:43:08.155081",
     "status": "completed"
    },
    "tags": []
   },
   "outputs": [],
   "source": [
    "print(numeric_feats, \"\\n\")\n",
    "print(\"number of numeric features: \", len(numeric_feats), \"\\n\")\n",
    "\n",
    "numeric_data = X_train[numeric_feats]"
   ]
  },
  {
   "cell_type": "markdown",
   "metadata": {
    "papermill": {
     "duration": 0.038285,
     "end_time": "2022-07-03T10:43:08.284554",
     "exception": false,
     "start_time": "2022-07-03T10:43:08.246269",
     "status": "completed"
    },
    "tags": []
   },
   "source": [
    "**Now that we have all the numeric features in one dataframe we can create the cross-correlation matrix.**"
   ]
  },
  {
   "cell_type": "code",
   "execution_count": null,
   "metadata": {
    "execution": {
     "iopub.execute_input": "2022-07-03T10:43:08.371330Z",
     "iopub.status.busy": "2022-07-03T10:43:08.367884Z",
     "iopub.status.idle": "2022-07-03T10:43:09.218783Z",
     "shell.execute_reply": "2022-07-03T10:43:09.218111Z"
    },
    "papermill": {
     "duration": 0.895626,
     "end_time": "2022-07-03T10:43:09.218903",
     "exception": false,
     "start_time": "2022-07-03T10:43:08.323277",
     "status": "completed"
    },
    "tags": []
   },
   "outputs": [],
   "source": [
    "corrmat = numeric_data.corr()\n",
    "f, ax = plt.subplots(figsize=(12, 9))\n",
    "sns.heatmap(corrmat, vmax=1.0, square=True);\n",
    "plt.show()"
   ]
  },
  {
   "cell_type": "markdown",
   "metadata": {
    "papermill": {
     "duration": 0.040458,
     "end_time": "2022-07-03T10:43:09.301366",
     "exception": false,
     "start_time": "2022-07-03T10:43:09.260908",
     "status": "completed"
    },
    "tags": []
   },
   "source": [
    "**Explanation of the plot:**\n",
    "\n",
    "**We can see a square matrix of size 36x36 and each pixel shows the cross-correlation value of feature i and feature j.**\n",
    "\n",
    "**Hence the main diagonal is always 1, since a feature cross-correlated with itself is always 1. The brighter a pixel is, the more correlated these two features are.**\n",
    "\n",
    "**What you do now is to look for bright pixels (except for the main diagonal of course) indicating highly correlated features.**\n",
    "\n",
    "**I can find the following bright pixels:**\n",
    "\n",
    "* **GarageYrBlt and YearBuilt, this makes sense because when you build the house you also build the garage at the same time**\n",
    "* **GarageCars and GarageArea, this makes sense because when you have a bigger GarageArea, you can fit more cars in it**\n",
    "* **TotRmsAbvGrd (Total rooms above grade) and GrLivArea, this makes sense, because the more GrLivArea a house has, the more rooms there are**\n",
    "\n",
    "**I will not remove any of these features, since there are not many highly correlated features.**\n",
    "\n",
    "**For example if you find huge bright areas in your cross-correlation matrix, you should remove some of these highly correlated features.**\n",
    "\n",
    "**Or if you find one bright line of pixels, this would indicate that on feature is highly correlated with many other features, and you can then remove this feature.**"
   ]
  },
  {
   "cell_type": "markdown",
   "metadata": {
    "papermill": {
     "duration": 0.042495,
     "end_time": "2022-07-03T10:43:09.385934",
     "exception": false,
     "start_time": "2022-07-03T10:43:09.343439",
     "status": "completed"
    },
    "tags": []
   },
   "source": [
    "# 3. Use coefficients of linear models\n",
    "\n",
    "\n",
    "**In the following section i will train two different linear models and analyze the coefficients of each model to get the most important features.**\n",
    "\n",
    "**These two linear models, Ridge and Lasso, are simply fit to the train data, but Ridge uses the L2 regularization while Lasso uses the L1 regularization.**\n",
    "\n",
    "**After the training process we can simply analyze the 'coefs_' attribute of the trained model, which resembles the coefficients of all features.**\n",
    "\n",
    "1. Ridge model with L2 regularization\n",
    "2. LassoCV model with L1 regularization"
   ]
  },
  {
   "cell_type": "markdown",
   "metadata": {
    "papermill": {
     "duration": 0.04087,
     "end_time": "2022-07-03T10:43:09.470046",
     "exception": false,
     "start_time": "2022-07-03T10:43:09.429176",
     "status": "completed"
    },
    "tags": []
   },
   "source": [
    "## 3.1 Ridge model with L2 regularization"
   ]
  },
  {
   "cell_type": "code",
   "execution_count": null,
   "metadata": {
    "execution": {
     "iopub.execute_input": "2022-07-03T10:43:09.561040Z",
     "iopub.status.busy": "2022-07-03T10:43:09.560289Z",
     "iopub.status.idle": "2022-07-03T10:43:10.214735Z",
     "shell.execute_reply": "2022-07-03T10:43:10.214134Z"
    },
    "papermill": {
     "duration": 0.703836,
     "end_time": "2022-07-03T10:43:10.214890",
     "exception": false,
     "start_time": "2022-07-03T10:43:09.511054",
     "status": "completed"
    },
    "tags": []
   },
   "outputs": [],
   "source": [
    "#####################################################################################\n",
    "#     3.1.)  Ridge model with L2 regularization\n",
    "#####################################################################################\n",
    "\n",
    "from sklearn.feature_selection import SelectFromModel\n",
    "from sklearn.linear_model import Ridge\n",
    "\n",
    "\n",
    "selector = SelectFromModel(estimator = Ridge()).fit(X_train, y)\n",
    "\n",
    "coefs = selector.estimator_.coef_\n",
    "\n",
    "coefs = pd.Series(coefs, index = X_train.columns)\n",
    "\n",
    "important_coefs = pd.concat([coefs.sort_values().head(15),\n",
    "                     coefs.sort_values().tail(15)])\n",
    "\n",
    "matplotlib.rcParams['figure.figsize'] = (8.0, 10.0)\n",
    "\n",
    "\n",
    "important_coefs.plot(kind = \"barh\")\n",
    "plt.title(\"Coefficients in the Ridge Model\")"
   ]
  },
  {
   "cell_type": "markdown",
   "metadata": {
    "papermill": {
     "duration": 0.042391,
     "end_time": "2022-07-03T10:43:10.301196",
     "exception": false,
     "start_time": "2022-07-03T10:43:10.258805",
     "status": "completed"
    },
    "tags": []
   },
   "source": [
    "**As we can see we get a nice overview over the features with their corresponding coefficient, the higher the coefficient, the more important this feature is for the used model. The coefficients are distributed in a pleasant way and the values ranging from -0.6 to 0.4 look good as well.**\n",
    "\n",
    "**We did not specify or optimize any parameters, we simply used the Ridge() model with all default parameters, now let's do the same for the Lasso model.**"
   ]
  },
  {
   "cell_type": "code",
   "execution_count": null,
   "metadata": {
    "execution": {
     "iopub.execute_input": "2022-07-03T10:43:10.394275Z",
     "iopub.status.busy": "2022-07-03T10:43:10.393586Z",
     "iopub.status.idle": "2022-07-03T10:43:10.395310Z",
     "shell.execute_reply": "2022-07-03T10:43:10.395919Z"
    },
    "papermill": {
     "duration": 0.051023,
     "end_time": "2022-07-03T10:43:10.396094",
     "exception": false,
     "start_time": "2022-07-03T10:43:10.345071",
     "status": "completed"
    },
    "tags": []
   },
   "outputs": [],
   "source": [
    "# the top 10 features of the Ridge model are:\n",
    "\n",
    "# GrLivArea\n",
    "# RoofMatl_WdShngl\n",
    "# Neighborhood_StoneBr\n",
    "# GarageQual_Ex\n",
    "# PoolQC_Ex\n",
    "# Condition2_PosA\n",
    "# Functional_Typ\n",
    "# Neighborhood_Crawfor\n",
    "# MSZoning_FV\n",
    "# Condition2_Feedr"
   ]
  },
  {
   "cell_type": "markdown",
   "metadata": {
    "papermill": {
     "duration": 0.043202,
     "end_time": "2022-07-03T10:43:10.484233",
     "exception": false,
     "start_time": "2022-07-03T10:43:10.441031",
     "status": "completed"
    },
    "tags": []
   },
   "source": [
    "## 3.2 Lasso model with L1 regularization"
   ]
  },
  {
   "cell_type": "markdown",
   "metadata": {
    "papermill": {
     "duration": 0.043064,
     "end_time": "2022-07-03T10:43:10.573257",
     "exception": false,
     "start_time": "2022-07-03T10:43:10.530193",
     "status": "completed"
    },
    "tags": []
   },
   "source": [
    "**Now we try the Lasso model:**"
   ]
  },
  {
   "cell_type": "code",
   "execution_count": null,
   "metadata": {
    "execution": {
     "iopub.execute_input": "2022-07-03T10:43:10.672482Z",
     "iopub.status.busy": "2022-07-03T10:43:10.661860Z",
     "iopub.status.idle": "2022-07-03T10:43:10.995293Z",
     "shell.execute_reply": "2022-07-03T10:43:10.994594Z"
    },
    "papermill": {
     "duration": 0.379124,
     "end_time": "2022-07-03T10:43:10.995423",
     "exception": false,
     "start_time": "2022-07-03T10:43:10.616299",
     "status": "completed"
    },
    "tags": []
   },
   "outputs": [],
   "source": [
    "#####################################################################################\n",
    "#     3.2.)  Lasso model with L1 regularization\n",
    "#####################################################################################\n",
    "\n",
    "\n",
    "from sklearn.linear_model import Lasso\n",
    "\n",
    "selector = SelectFromModel(estimator = Lasso()).fit(X_train, y)\n",
    "\n",
    "coefs = selector.estimator_.coef_\n",
    "\n",
    "coefs = pd.Series(coefs, index = X_train.columns)\n",
    "\n",
    "important_coefs = pd.concat([coefs.sort_values().head(15),\n",
    "                     coefs.sort_values().tail(15)])\n",
    "\n",
    "matplotlib.rcParams['figure.figsize'] = (8.0, 10.0)\n",
    "\n",
    "\n",
    "important_coefs.plot(kind = \"barh\")\n",
    "plt.title(\"Coefficients in the Lasso Model\")"
   ]
  },
  {
   "cell_type": "markdown",
   "metadata": {
    "papermill": {
     "duration": 0.045381,
     "end_time": "2022-07-03T10:43:11.086239",
     "exception": false,
     "start_time": "2022-07-03T10:43:11.040858",
     "status": "completed"
    },
    "tags": []
   },
   "source": [
    "**As we can see only 3 features have a coefficient that is not 0, this is a very unsatisfying result.**\n",
    "\n",
    "**They main difference between the Ridge and the Lasso model is the different regularization term.** \n",
    "\n",
    "**I dont wanna go into deep mathematical detail, but simply said the regularization term looks as follows:**\n",
    "\n",
    "**Lasso L1 regu:             alpha * |weights|**\n",
    "\n",
    "**Ridge L2 regu:             alpha * |weights|^2**\n",
    "\n",
    "**So the only difference lies in the squaring of the weights, the parameter alpha (called regularization strength) is the same and the default value is alpha = 1.0 for both models.**\n",
    "\n",
    "**Increasing the parameter alpha results in smaller coefficients, hence the default value of alpha = 1.0 seems too high for the Lasso model.**\n",
    "\n",
    "**We will lower alpha to alpha = 0.001 in the Lasso model and let's see if this helped:**"
   ]
  },
  {
   "cell_type": "code",
   "execution_count": null,
   "metadata": {
    "execution": {
     "iopub.execute_input": "2022-07-03T10:43:11.190867Z",
     "iopub.status.busy": "2022-07-03T10:43:11.189752Z",
     "iopub.status.idle": "2022-07-03T10:43:11.545039Z",
     "shell.execute_reply": "2022-07-03T10:43:11.544254Z"
    },
    "papermill": {
     "duration": 0.412829,
     "end_time": "2022-07-03T10:43:11.545178",
     "exception": false,
     "start_time": "2022-07-03T10:43:11.132349",
     "status": "completed"
    },
    "tags": []
   },
   "outputs": [],
   "source": [
    "selector = SelectFromModel(estimator = Lasso(alpha = 0.001)).fit(X_train, y)\n",
    "\n",
    "coefs = selector.estimator_.coef_\n",
    "\n",
    "coefs = pd.Series(coefs, index = X_train.columns)\n",
    "\n",
    "important_coefs = pd.concat([coefs.sort_values().head(15),\n",
    "                     coefs.sort_values().tail(15)])\n",
    "\n",
    "matplotlib.rcParams['figure.figsize'] = (8.0, 10.0)\n",
    "\n",
    "\n",
    "important_coefs.plot(kind = \"barh\")\n",
    "plt.title(\"Coefficients in the Lasso Model\")"
   ]
  },
  {
   "cell_type": "markdown",
   "metadata": {
    "papermill": {
     "duration": 0.04627,
     "end_time": "2022-07-03T10:43:11.640070",
     "exception": false,
     "start_time": "2022-07-03T10:43:11.593800",
     "status": "completed"
    },
    "tags": []
   },
   "source": [
    "**Yes, lowering the parameter alpha was definitely correct, now all the coefficients are distributed in a good way and have reasonable values from -0.2 to 0.35.**\n",
    "\n",
    "**The problematic thing is that the parameter alpha must be optimized and tweaked in order for the model to predict accurately, but this directly influences the coefficients at the same time. And sadly the order of features changes drastically. If you compare alpha = 0.1, alpha = 0.01, and alpha = 0.001 (not shown in this notebook, but I have checked it) you get entirely different features and coefficients.** \n",
    "\n",
    "\n",
    "**Basically the 'coefs_' attribute gives us the opportunity to look into our fitted model and analyze which features the model \"thinks\" are important, but these coefficients are heavily influenced by parameters like the regularization strength alpha.**"
   ]
  },
  {
   "cell_type": "markdown",
   "metadata": {
    "papermill": {
     "duration": 0.048409,
     "end_time": "2022-07-03T10:43:11.737197",
     "exception": false,
     "start_time": "2022-07-03T10:43:11.688788",
     "status": "completed"
    },
    "tags": []
   },
   "source": [
    "# 4. General feature selection methods\n",
    "\n",
    "**So far we have simply used the coefficients of two different linear models to find the most important features, lets try some different methods and compare the results:**\n",
    "\n",
    "1. **Feature_selection.SelectKBest**\n",
    "2. **Permutation importance**\n",
    "3. **SHAP values**\n",
    "4. **Recursive feature elimination (RFE)**\n",
    "\n",
    "## 4.1 Feature_selection.SelectKBest"
   ]
  },
  {
   "cell_type": "markdown",
   "metadata": {
    "papermill": {
     "duration": 0.047552,
     "end_time": "2022-07-03T10:43:11.831152",
     "exception": false,
     "start_time": "2022-07-03T10:43:11.783600",
     "status": "completed"
    },
    "tags": []
   },
   "source": [
    "**In this section we are going to use the Feature_selection.SelectKBest  function of sklearn.**\n",
    "\n",
    "**SelectKBest takes a certain score_func (score function) and runs univariate statistical tests depending on which score_func we use.**\n",
    "\n",
    "**We do not need to train any model for this feature selection method, since only statistical calculations are carried out on the data.** \n",
    "\n",
    "**The common score functions used are:**\n",
    "\n",
    "* **f_classif : used for classification tasks, uses the ANOVA F value**\n",
    "* **f_regression: used for regression tasks, uses the F value**\n",
    "* **chi2: used for classification tasks, uses the chi squared test**"
   ]
  },
  {
   "cell_type": "code",
   "execution_count": null,
   "metadata": {
    "execution": {
     "iopub.execute_input": "2022-07-03T10:43:11.937019Z",
     "iopub.status.busy": "2022-07-03T10:43:11.936232Z",
     "iopub.status.idle": "2022-07-03T10:43:12.169660Z",
     "shell.execute_reply": "2022-07-03T10:43:12.168965Z"
    },
    "papermill": {
     "duration": 0.291841,
     "end_time": "2022-07-03T10:43:12.169778",
     "exception": false,
     "start_time": "2022-07-03T10:43:11.877937",
     "status": "completed"
    },
    "tags": []
   },
   "outputs": [],
   "source": [
    "################################################################################################\n",
    "#     4.1.)  feature_selection.SelectKBest    with f_regression\n",
    "################################################################################################\n",
    "\n",
    "#  SelectKBest works with univariate statistical tests, \n",
    "#  that calculate how the features relate with the target\n",
    "from sklearn.feature_selection import SelectKBest, f_regression, mutual_info_regression      \n",
    "\n",
    "feature_cols = X_train.columns\n",
    "\n",
    "\n",
    "#  f_regression stands for the ANOVA F-value test and is used for regression tasks\n",
    "selector = SelectKBest(score_func = f_regression, k=10)    \n",
    "X_new = selector.fit_transform(X_train[feature_cols], y)\n",
    "selected_features = pd.DataFrame(selector.inverse_transform(X_new),\n",
    "                                 index = X_train.index,\n",
    "                                 columns=feature_cols)\n",
    "\n",
    "selected_columns = selected_features.columns[selected_features.var() != 0]  \n",
    "print(\"selected_columns: \", selected_columns, \"\\n\")\n",
    "\n",
    "\n",
    "scores = pd.Series(selector.scores_)\n",
    "\n",
    "sorted_scores = sorted(scores)[::-1][0:10]\n",
    "\n",
    "print(\"sorted_scores: \", sorted_scores, \"\\n\")\n",
    "\n",
    "#print(selected_columns)\n",
    "sns.barplot(sorted_scores, selected_columns, orient = \"h\")"
   ]
  },
  {
   "cell_type": "markdown",
   "metadata": {
    "papermill": {
     "duration": 0.047545,
     "end_time": "2022-07-03T10:43:12.265500",
     "exception": false,
     "start_time": "2022-07-03T10:43:12.217955",
     "status": "completed"
    },
    "tags": []
   },
   "source": [
    "**This is our second top 10 list of important features.**"
   ]
  },
  {
   "cell_type": "code",
   "execution_count": null,
   "metadata": {
    "execution": {
     "iopub.execute_input": "2022-07-03T10:43:12.368306Z",
     "iopub.status.busy": "2022-07-03T10:43:12.367616Z",
     "iopub.status.idle": "2022-07-03T10:43:12.370177Z",
     "shell.execute_reply": "2022-07-03T10:43:12.369523Z"
    },
    "papermill": {
     "duration": 0.05532,
     "end_time": "2022-07-03T10:43:12.370296",
     "exception": false,
     "start_time": "2022-07-03T10:43:12.314976",
     "status": "completed"
    },
    "tags": []
   },
   "outputs": [],
   "source": [
    "# top10 of SelectKBest, f_regression:          \n",
    "\n",
    "#'OverallQual', \n",
    "#'YearBuilt', \n",
    "#'YearRemodAdd', \n",
    "#'1stFlrSF', \n",
    "#'GrLivArea',\n",
    "#'FullBath', \n",
    "#'GarageCars', \n",
    "#'GarageArea', \n",
    "#'ExterQual_TA',\n",
    "#'KitchenQual_TA'"
   ]
  },
  {
   "cell_type": "markdown",
   "metadata": {
    "papermill": {
     "duration": 0.050187,
     "end_time": "2022-07-03T10:43:12.469116",
     "exception": false,
     "start_time": "2022-07-03T10:43:12.418929",
     "status": "completed"
    },
    "tags": []
   },
   "source": [
    "**This is the result for score_func = f_regression,  now we will try  score_func = mutual_info_regression**"
   ]
  },
  {
   "cell_type": "code",
   "execution_count": null,
   "metadata": {
    "execution": {
     "iopub.execute_input": "2022-07-03T10:43:12.577611Z",
     "iopub.status.busy": "2022-07-03T10:43:12.576914Z",
     "iopub.status.idle": "2022-07-03T10:43:26.843922Z",
     "shell.execute_reply": "2022-07-03T10:43:26.843299Z"
    },
    "papermill": {
     "duration": 14.325145,
     "end_time": "2022-07-03T10:43:26.844058",
     "exception": false,
     "start_time": "2022-07-03T10:43:12.518913",
     "status": "completed"
    },
    "tags": []
   },
   "outputs": [],
   "source": [
    "################################################################################################\n",
    "#     4.1.)  feature_selection.SelectKBest  with mutual_info_regression\n",
    "################################################################################################\n",
    "\n",
    "\n",
    "#  mutual_info_regression \n",
    "selector = SelectKBest(score_func = mutual_info_regression, k=10)    \n",
    "\n",
    "print(\"started fitting.....\\n\")\n",
    "X_new = selector.fit_transform(X_train[feature_cols], y)\n",
    "selected_features = pd.DataFrame(selector.inverse_transform(X_new),\n",
    "                                 index = X_train.index,\n",
    "                                 columns=feature_cols)\n",
    "\n",
    "selected_columns = selected_features.columns[selected_features.var() != 0]  \n",
    "print(\"selected_columns: \", selected_columns, \"\\n\")\n",
    "\n",
    "\n",
    "scores = pd.Series(selector.scores_)\n",
    "\n",
    "sorted_scores = sorted(scores)[::-1][0:10]\n",
    "\n",
    "print(\"sorted_scores: \", sorted_scores, \"\\n\")\n",
    "\n",
    "#print(selected_columns)\n",
    "sns.barplot(sorted_scores, selected_columns, orient = \"h\")"
   ]
  },
  {
   "cell_type": "code",
   "execution_count": null,
   "metadata": {
    "execution": {
     "iopub.execute_input": "2022-07-03T10:43:26.950139Z",
     "iopub.status.busy": "2022-07-03T10:43:26.949138Z",
     "iopub.status.idle": "2022-07-03T10:43:26.952424Z",
     "shell.execute_reply": "2022-07-03T10:43:26.951782Z"
    },
    "papermill": {
     "duration": 0.057927,
     "end_time": "2022-07-03T10:43:26.952544",
     "exception": false,
     "start_time": "2022-07-03T10:43:26.894617",
     "status": "completed"
    },
    "tags": []
   },
   "outputs": [],
   "source": [
    "# top10 of SelectKBest, mutual_info_regression:     # top10 of f_regression:      \n",
    "\n",
    "#'MSSubClass'                                        #'OverallQual', \n",
    "#'OverallQual',                                      #'YearBuilt', \n",
    "#'YearBuilt',                                        #'YearRemodAdd', \n",
    "#'TotalBsmtSF'                                       #'1stFlrSF', \n",
    "#'1stFlrSF',                                         #'GrLivArea',\n",
    "#'GrLivArea',                                        #'FullBath', \n",
    "#'GarageYrBlt',                                      #'GarageCars', \n",
    "#'GarageCars',                                       #'GarageArea', \n",
    "#'GarageArea',                                       #'ExterQual_TA',\n",
    "#'ExterQual_TA',                                     #'KitchenQual_TA'"
   ]
  },
  {
   "cell_type": "markdown",
   "metadata": {
    "papermill": {
     "duration": 0.050226,
     "end_time": "2022-07-03T10:43:27.053066",
     "exception": false,
     "start_time": "2022-07-03T10:43:27.002840",
     "status": "completed"
    },
    "tags": []
   },
   "source": [
    "**When we compare the top10 lists of both score functions f_regression and mutual_info_regression we can see, that they have 7 features in common and in roughly the same rank and order.** \n",
    "\n",
    "**Since we cannot analyze any performance for these univariate statistical feature selection methods, we have to try them out one by one and compare the results afterwards.**\n",
    "\n",
    "**For example if 4 methods yield the same result and the 5th method yields completely different results, you can assume that the first 4 methods are better in finding the important features than the 5th method.  But the final and most important test will always be the performance of the model.**"
   ]
  },
  {
   "cell_type": "markdown",
   "metadata": {
    "papermill": {
     "duration": 0.051907,
     "end_time": "2022-07-03T10:43:27.157235",
     "exception": false,
     "start_time": "2022-07-03T10:43:27.105328",
     "status": "completed"
    },
    "tags": []
   },
   "source": [
    "## 4.2 Permutation importance\n",
    "\n",
    "**In this section we will use Permutation Importance to find the most important features.**\n",
    "\n",
    "**Permutation importance is calculated after a model has been fitted by randomly shuffling the values of one single feature and then analyzing how the prediction of the model is affected by this now shuffled data.** \n",
    "\n",
    "**Simply said: If a feature is unimportant anyway, the prediction of a trained model does not change much when you randomly shuffle the values of an unimportant feature.**\n",
    "\n",
    "**For more information I can recommend this kaggle course:**  https://www.kaggle.com/learn/machine-learning-explainability"
   ]
  },
  {
   "cell_type": "code",
   "execution_count": null,
   "metadata": {
    "execution": {
     "iopub.execute_input": "2022-07-03T10:43:27.267565Z",
     "iopub.status.busy": "2022-07-03T10:43:27.266645Z",
     "iopub.status.idle": "2022-07-03T10:43:34.912334Z",
     "shell.execute_reply": "2022-07-03T10:43:34.911578Z"
    },
    "papermill": {
     "duration": 7.703432,
     "end_time": "2022-07-03T10:43:34.912471",
     "exception": false,
     "start_time": "2022-07-03T10:43:27.209039",
     "status": "completed"
    },
    "tags": []
   },
   "outputs": [],
   "source": [
    "################################################################################################\n",
    "#   4.2.)  Permutation importance\n",
    "################################################################################################\n",
    "\n",
    "\n",
    "from IPython.display import display\n",
    "import eli5\n",
    "from eli5.sklearn import PermutationImportance"
   ]
  },
  {
   "cell_type": "markdown",
   "metadata": {
    "papermill": {
     "duration": 0.050855,
     "end_time": "2022-07-03T10:43:35.016616",
     "exception": false,
     "start_time": "2022-07-03T10:43:34.965761",
     "status": "completed"
    },
    "tags": []
   },
   "source": [
    "**For Permutation Importance we have to choose a list of features to calculate the permutation importance, calculating it for all 288 features would take too long. Hence we must choose about 15 features.(just for this kaggle notebook here, 15 is not a general number)** \n",
    "\n",
    "**Let's use the insights we already gained to choose adequate features to analyze their permutation importance.**"
   ]
  },
  {
   "cell_type": "code",
   "execution_count": null,
   "metadata": {
    "execution": {
     "iopub.execute_input": "2022-07-03T10:43:35.126577Z",
     "iopub.status.busy": "2022-07-03T10:43:35.125801Z",
     "iopub.status.idle": "2022-07-03T10:43:35.128382Z",
     "shell.execute_reply": "2022-07-03T10:43:35.128904Z"
    },
    "papermill": {
     "duration": 0.06056,
     "end_time": "2022-07-03T10:43:35.129080",
     "exception": false,
     "start_time": "2022-07-03T10:43:35.068520",
     "status": "completed"
    },
    "tags": []
   },
   "outputs": [],
   "source": [
    "# important features so far:\n",
    "\n",
    "# top 10 of Lasso model:         top 10 of selectKBest f_regression:  \n",
    "\n",
    "# GrLivArea                               #'OverallQual', \n",
    "# Neighborhood_StoneBr                    #'YearBuilt', \n",
    "# Neighborhood_Crawfor                    #'YearRemodAdd', \n",
    "# Neighborhood_NoRidge                    #'1stFlrSF', \n",
    "# Functional_Typ                          #'GrLivArea',\n",
    "# LotArea                                 #'FullBath',  \n",
    "# Neighborhood_NridgHt                    #'GarageCars',   \n",
    "# Exterior1st_BrkFace                     #'GarageArea', \n",
    "# KitchenQual_Ex                          #'ExterQual_TA',\n",
    "# OverallQual                             #'KitchenQual_TA'"
   ]
  },
  {
   "cell_type": "markdown",
   "metadata": {
    "papermill": {
     "duration": 0.05157,
     "end_time": "2022-07-03T10:43:35.232338",
     "exception": false,
     "start_time": "2022-07-03T10:43:35.180768",
     "status": "completed"
    },
    "tags": []
   },
   "source": [
    "**Right now i will just pick the top 10 of selectKBest with f_regression and add 5 handpicked features of the Lasso model,\n",
    "being  'Neighborhood_StoneBr', 'Functional_Typ', 'LotArea', 'Exterior1st_BrkFace', 'KitchenQual_Ex'.**\n",
    "\n",
    "**I only wanted to choose one of the Neighborhood features, i picked the seemingly most important one,  and then only the other 4 remained.**\n",
    "\n",
    "**Now we will compute the permutation importance of these features for the Ridge model, then afterwards for the Lasso model.** "
   ]
  },
  {
   "cell_type": "code",
   "execution_count": null,
   "metadata": {
    "execution": {
     "iopub.execute_input": "2022-07-03T10:43:35.339268Z",
     "iopub.status.busy": "2022-07-03T10:43:35.338224Z",
     "iopub.status.idle": "2022-07-03T10:43:35.575101Z",
     "shell.execute_reply": "2022-07-03T10:43:35.573901Z"
    },
    "papermill": {
     "duration": 0.291808,
     "end_time": "2022-07-03T10:43:35.575283",
     "exception": false,
     "start_time": "2022-07-03T10:43:35.283475",
     "status": "completed"
    },
    "tags": []
   },
   "outputs": [],
   "source": [
    "################################################################################################\n",
    "#   4.2.1)  Permutation importance with Ridge\n",
    "################################################################################################\n",
    "\n",
    "#  which alpha to choose\n",
    "\n",
    "\n",
    "X_train_short = X_train.loc[:, ['OverallQual', 'YearBuilt', 'YearRemodAdd', '1stFlrSF', 'GrLivArea',\n",
    "                                'FullBath', 'GarageCars', 'GarageArea', 'ExterQual_TA', 'KitchenQual_TA', \n",
    "                                'Neighborhood_StoneBr', 'Functional_Typ', 'LotArea', 'Exterior1st_BrkFace', \n",
    "                                'KitchenQual_Ex']]     \n",
    "\n",
    "print(\"fitting model...\")\n",
    "my_model = Ridge().fit(X_train_short, y)\n",
    "\n",
    "#  for performance reasons i will only use n_estimators = 100 in this tutorial,\n",
    "#  i have tested it with 500 as well, the results didnt really change, \n",
    "#  but everything took much much longer to compute.\n",
    "\n",
    "\n",
    "print(\"calculating permutation importance...(takes about 1-2 minutes)\")\n",
    "perm = PermutationImportance(my_model, random_state=1).fit(X_train_short, y)\n",
    "\n",
    "display(eli5.show_weights(perm, feature_names = X_train_short.columns.tolist()))"
   ]
  },
  {
   "cell_type": "markdown",
   "metadata": {
    "papermill": {
     "duration": 0.055073,
     "end_time": "2022-07-03T10:43:35.690109",
     "exception": false,
     "start_time": "2022-07-03T10:43:35.635036",
     "status": "completed"
    },
    "tags": []
   },
   "source": [
    "**Ok lets compare the top10 list of permutation importance with the top10 of the coefficients:**"
   ]
  },
  {
   "cell_type": "code",
   "execution_count": null,
   "metadata": {
    "execution": {
     "iopub.execute_input": "2022-07-03T10:43:35.803067Z",
     "iopub.status.busy": "2022-07-03T10:43:35.802359Z",
     "iopub.status.idle": "2022-07-03T10:43:35.805676Z",
     "shell.execute_reply": "2022-07-03T10:43:35.804928Z"
    },
    "papermill": {
     "duration": 0.061209,
     "end_time": "2022-07-03T10:43:35.805797",
     "exception": false,
     "start_time": "2022-07-03T10:43:35.744588",
     "status": "completed"
    },
    "tags": []
   },
   "outputs": [],
   "source": [
    "# top10 of Ridge coefficients:          top10 of permutation importance:\n",
    "\n",
    "# GrLivArea                                 # GrLivArea \n",
    "# RoofMatl_WdShngl                          # OverallQual\n",
    "# Neighborhood_StoneBr                      # YearBuilt\n",
    "# GarageQual_Ex                             # LotArea\n",
    "# PoolQC_Ex                                 # YearRemodAdd\n",
    "# Condition2_PosA                           # 1stFlrSF\n",
    "# Functional_Typ                            # GarageCars\n",
    "# Neighborhood_Crawfor                      # Functional_Typ\n",
    "# MSZoning_FV                               # KitchenQual_Ex\n",
    "# Condition2_Feedr                          # Exterior1st_BrkFace"
   ]
  },
  {
   "cell_type": "markdown",
   "metadata": {
    "papermill": {
     "duration": 0.052536,
     "end_time": "2022-07-03T10:43:35.911911",
     "exception": false,
     "start_time": "2022-07-03T10:43:35.859375",
     "status": "completed"
    },
    "tags": []
   },
   "source": [
    "**As we can see only 3 features appear in both top10 lists:  GrLivArea, Neighborhood_StoneBr and Functional_Typ.**\n",
    "\n",
    "**Since we cannot know which of these 2 methods yields the \"better\" top10 list of features, or maybe both methods are wrong, we cannot know at this point, we have to gather more information.**\n",
    "\n",
    "**For example if you have 5 methods for finding important features and 4 methods yield the same features, only the other method yields different results, you can safely assume that the features deemed important by these 4 methods are actually important.**\n",
    "\n",
    "**The final test will always be the performance of the model though.**\n",
    "\n",
    "**Let's try the Lasso model next:**"
   ]
  },
  {
   "cell_type": "code",
   "execution_count": null,
   "metadata": {
    "execution": {
     "iopub.execute_input": "2022-07-03T10:43:36.029137Z",
     "iopub.status.busy": "2022-07-03T10:43:36.028326Z",
     "iopub.status.idle": "2022-07-03T10:43:36.217618Z",
     "shell.execute_reply": "2022-07-03T10:43:36.218388Z"
    },
    "papermill": {
     "duration": 0.253346,
     "end_time": "2022-07-03T10:43:36.218557",
     "exception": false,
     "start_time": "2022-07-03T10:43:35.965211",
     "status": "completed"
    },
    "tags": []
   },
   "outputs": [],
   "source": [
    "################################################################################################\n",
    "#   4.2.2)  Permutation importance with Lasso \n",
    "################################################################################################\n",
    "\n",
    "\n",
    "X_train_short = X_train.loc[:, ['OverallQual', 'YearBuilt', 'YearRemodAdd', '1stFlrSF', 'GrLivArea',\n",
    "                                'FullBath', 'GarageCars', 'GarageArea', 'ExterQual_TA', 'KitchenQual_TA', \n",
    "                                'Neighborhood_StoneBr', 'Functional_Typ', 'LotArea', 'Exterior1st_BrkFace', \n",
    "                                'KitchenQual_Ex']]     \n",
    "\n",
    "print(\"fitting model...\")\n",
    "my_model = Lasso().fit(X_train_short, y)\n",
    "\n",
    "#  for performance reasons i will only use n_estimators = 100 in this tutorial,\n",
    "#  i have tested it with 500 as well, the results didnt really change, \n",
    "#  but everything took much much longer to compute.\n",
    "\n",
    "\n",
    "print(\"calculating permutation importance...(takes about 1-2 minutes)\")\n",
    "perm = PermutationImportance(my_model, random_state=1).fit(X_train_short, y)\n",
    "\n",
    "display(eli5.show_weights(perm, feature_names = X_train_short.columns.tolist()))"
   ]
  },
  {
   "cell_type": "markdown",
   "metadata": {
    "papermill": {
     "duration": 0.06091,
     "end_time": "2022-07-03T10:43:36.336574",
     "exception": false,
     "start_time": "2022-07-03T10:43:36.275664",
     "status": "completed"
    },
    "tags": []
   },
   "source": [
    "**This is the exact same problem we had in Section 2, where the default value of alpha = 1.0 as too high, such that all coefficients were pushed down to 0, except for 3 features: GarageArea, YearBuilt, YearRemodAdd.**\n",
    "\n",
    "**And exactly these 3 features can be found in this list right here. We will try again with a value of alpha = 0.001, let's see if we get the same features as through the coefficients:**"
   ]
  },
  {
   "cell_type": "code",
   "execution_count": null,
   "metadata": {
    "execution": {
     "iopub.execute_input": "2022-07-03T10:43:36.456218Z",
     "iopub.status.busy": "2022-07-03T10:43:36.455430Z",
     "iopub.status.idle": "2022-07-03T10:43:36.645734Z",
     "shell.execute_reply": "2022-07-03T10:43:36.644980Z"
    },
    "papermill": {
     "duration": 0.25364,
     "end_time": "2022-07-03T10:43:36.645870",
     "exception": false,
     "start_time": "2022-07-03T10:43:36.392230",
     "status": "completed"
    },
    "tags": []
   },
   "outputs": [],
   "source": [
    "print(\"fitting model...\")\n",
    "my_model = Lasso(alpha = 0.001).fit(X_train_short, y)\n",
    "\n",
    "#  for performance reasons i will only use n_estimators = 100 in this tutorial,\n",
    "#  i have tested it with 500 as well, the results didnt really change, \n",
    "#  but everything took much much longer to compute.\n",
    "\n",
    "\n",
    "print(\"calculating permutation importance...(takes about 1-2 minutes)\")\n",
    "perm = PermutationImportance(my_model, random_state=1).fit(X_train_short, y)\n",
    "\n",
    "display(eli5.show_weights(perm, feature_names = X_train_short.columns.tolist()))"
   ]
  },
  {
   "cell_type": "markdown",
   "metadata": {
    "papermill": {
     "duration": 0.065226,
     "end_time": "2022-07-03T10:43:36.769836",
     "exception": false,
     "start_time": "2022-07-03T10:43:36.704610",
     "status": "completed"
    },
    "tags": []
   },
   "source": [
    "**Ah well, in this list we can still find some features like GrLivArea, OverallQual and LotArea, but generally this list looks very different from the list of coefficients of the Lasso model with alpha = 0.001.**\n",
    "\n",
    "**It seems like that in the Lasso model alpha has the same heavy impact on the results for the permutation importance as for the coefficients.**\n",
    "\n",
    "**Let's try a model we have not looked at before:  The RandomForestRegressor.**"
   ]
  },
  {
   "cell_type": "code",
   "execution_count": null,
   "metadata": {
    "execution": {
     "iopub.execute_input": "2022-07-03T10:43:36.891126Z",
     "iopub.status.busy": "2022-07-03T10:43:36.890358Z",
     "iopub.status.idle": "2022-07-03T10:43:40.333151Z",
     "shell.execute_reply": "2022-07-03T10:43:40.332549Z"
    },
    "papermill": {
     "duration": 3.507452,
     "end_time": "2022-07-03T10:43:40.333276",
     "exception": false,
     "start_time": "2022-07-03T10:43:36.825824",
     "status": "completed"
    },
    "tags": []
   },
   "outputs": [],
   "source": [
    "################################################################################################\n",
    "#   4.2.3)  Permutation importance with RandomForestRegressor\n",
    "################################################################################################\n",
    "\n",
    "from sklearn.ensemble import RandomForestRegressor\n",
    "\n",
    "X_train_short = X_train.loc[:, ['OverallQual', 'YearBuilt', 'YearRemodAdd', '1stFlrSF', 'GrLivArea',\n",
    "                                'FullBath', 'GarageCars', 'GarageArea', 'ExterQual_TA', 'KitchenQual_TA', \n",
    "                                'Neighborhood_StoneBr', 'Functional_Typ', 'LotArea', 'Exterior1st_BrkFace', \n",
    "                                'KitchenQual_Ex']]     \n",
    "\n",
    "print(\"fitting model...\")\n",
    "my_model = RandomForestRegressor(n_estimators=100, random_state=1).fit(X_train_short, y)\n",
    "\n",
    "#  for performance reasons i will only use n_estimators = 100 in this tutorial,\n",
    "#  i have tested it with 500 as well, the results didnt really change, \n",
    "#  but everything took much much longer to compute.\n",
    "\n",
    "\n",
    "print(\"calculating permutation importance...(takes about 1-2 minutes)\")\n",
    "perm = PermutationImportance(my_model, random_state=1).fit(X_train_short, y)\n",
    "\n",
    "display(eli5.show_weights(perm, feature_names = X_train_short.columns.tolist()))"
   ]
  },
  {
   "cell_type": "markdown",
   "metadata": {
    "papermill": {
     "duration": 0.06009,
     "end_time": "2022-07-03T10:43:40.451380",
     "exception": false,
     "start_time": "2022-07-03T10:43:40.391290",
     "status": "completed"
    },
    "tags": []
   },
   "source": [
    "**That looks good, when we compare this list of the RandomForestRegressor with the list of the Ridge model, we notice that they contain the same features, only the ranks and the order is slightly different.** \n",
    "\n",
    "**Generally one can say that the permutation importance of both the RandomForestRegressor and the Ridge model yield the same important features.**\n",
    "\n",
    "**The problem with the permutation importance is that the results are based on a trained model, and if that model was a bad choice or is not well trained, the results of the permutation importance will not reveal any useful or correct information.**"
   ]
  },
  {
   "cell_type": "markdown",
   "metadata": {
    "papermill": {
     "duration": 0.060081,
     "end_time": "2022-07-03T10:43:40.569211",
     "exception": false,
     "start_time": "2022-07-03T10:43:40.509130",
     "status": "completed"
    },
    "tags": []
   },
   "source": [
    "## 4.3 Shap values"
   ]
  },
  {
   "cell_type": "markdown",
   "metadata": {
    "papermill": {
     "duration": 0.057974,
     "end_time": "2022-07-03T10:43:40.687504",
     "exception": false,
     "start_time": "2022-07-03T10:43:40.629530",
     "status": "completed"
    },
    "tags": []
   },
   "source": [
    "**I will not explain the Shap values in great detail,  if you are interested in that, i can recommend this link:**\n",
    "\n",
    "https://www.kaggle.com/prashant111/explain-your-model-predictions-with-shapley-values\n",
    "\n",
    "**Simply said SHAP values measure the impact of having a certain value for a feature in comparison to the prediction we would get if that feature took some baseline value.**\n",
    "\n",
    "**By doing this we can detect important features.**"
   ]
  },
  {
   "cell_type": "code",
   "execution_count": null,
   "metadata": {
    "execution": {
     "iopub.execute_input": "2022-07-03T10:43:40.857835Z",
     "iopub.status.busy": "2022-07-03T10:43:40.857066Z",
     "iopub.status.idle": "2022-07-03T10:45:17.059233Z",
     "shell.execute_reply": "2022-07-03T10:45:17.058658Z"
    },
    "papermill": {
     "duration": 96.311911,
     "end_time": "2022-07-03T10:45:17.059355",
     "exception": false,
     "start_time": "2022-07-03T10:43:40.747444",
     "status": "completed"
    },
    "tags": []
   },
   "outputs": [],
   "source": [
    "################################################################################################\n",
    "#  4.3.)  SHAP Values\n",
    "################################################################################################\n",
    "\n",
    "\n",
    "import shap # package used to calculate Shap values\n",
    "#from sklearn                        import metrics, svm\n",
    "from sklearn import preprocessing\n",
    "from sklearn import utils\n",
    "\n",
    "#  This cell takes about 2 minutes to run\n",
    "print(\"This cell takes about 2 minutes to run. \\n\")\n",
    "\n",
    "\n",
    "#  fit model\n",
    "print(\"fitting model...\")\n",
    "my_model = RandomForestRegressor(n_estimators = 100, random_state=1).fit(X_train, y) \n",
    "\n",
    "\n",
    "# Create object that can calculate shap values\n",
    "explainer = shap.TreeExplainer(my_model)\n",
    "\n",
    "# Calculate Shap values\n",
    "shap_values = explainer.shap_values(X_train)\n",
    "\n",
    "shap.initjs()\n",
    "\n",
    "display(shap.force_plot(explainer.expected_value, shap_values[0, :], X_train.iloc[0,:]))"
   ]
  },
  {
   "cell_type": "markdown",
   "metadata": {
    "papermill": {
     "duration": 0.071397,
     "end_time": "2022-07-03T10:45:17.202602",
     "exception": false,
     "start_time": "2022-07-03T10:45:17.131205",
     "status": "completed"
    },
    "tags": []
   },
   "source": [
    "**This is the typical shap value plot, i will not go into deep detail here, but we can see the most important features and how they impact the model output.**\n",
    "\n",
    "**In these plots it's hard to compare the importance of red and blue features, but there is an awesome solution for this problem, such that we can see the most important features more clearly. Behold!**"
   ]
  },
  {
   "cell_type": "code",
   "execution_count": null,
   "metadata": {
    "execution": {
     "iopub.execute_input": "2022-07-03T10:45:17.350095Z",
     "iopub.status.busy": "2022-07-03T10:45:17.349408Z",
     "iopub.status.idle": "2022-07-03T10:45:17.600428Z",
     "shell.execute_reply": "2022-07-03T10:45:17.599859Z"
    },
    "papermill": {
     "duration": 0.327076,
     "end_time": "2022-07-03T10:45:17.600556",
     "exception": false,
     "start_time": "2022-07-03T10:45:17.273480",
     "status": "completed"
    },
    "tags": []
   },
   "outputs": [],
   "source": [
    "display(shap.summary_plot(shap_values, X_train, plot_type=\"bar\"))"
   ]
  },
  {
   "cell_type": "markdown",
   "metadata": {
    "papermill": {
     "duration": 0.072331,
     "end_time": "2022-07-03T10:45:17.745567",
     "exception": false,
     "start_time": "2022-07-03T10:45:17.673236",
     "status": "completed"
    },
    "tags": []
   },
   "source": [
    "**Wow, isnt that beautiful? Look at this beautiful plot, the color blue, the font of the labels, the ......sorry,  i got carried away a little bit.**\n",
    "\n",
    "**It takes about 2 minutes computation time, but we could put our entire X_train data into it and\n",
    "it gives us the most important features in a very clear and structured plot.**\n",
    "\n",
    "**Before we compare the results of this method with the results of the other methods, I want to show you one last awesome shap plot:**"
   ]
  },
  {
   "cell_type": "code",
   "execution_count": null,
   "metadata": {
    "execution": {
     "iopub.execute_input": "2022-07-03T10:45:17.895419Z",
     "iopub.status.busy": "2022-07-03T10:45:17.894724Z",
     "iopub.status.idle": "2022-07-03T10:45:18.812842Z",
     "shell.execute_reply": "2022-07-03T10:45:18.812201Z"
    },
    "papermill": {
     "duration": 0.993901,
     "end_time": "2022-07-03T10:45:18.812968",
     "exception": false,
     "start_time": "2022-07-03T10:45:17.819067",
     "status": "completed"
    },
    "tags": []
   },
   "outputs": [],
   "source": [
    "display(shap.summary_plot(shap_values, X_train))"
   ]
  },
  {
   "cell_type": "markdown",
   "metadata": {
    "papermill": {
     "duration": 0.077222,
     "end_time": "2022-07-03T10:45:18.969123",
     "exception": false,
     "start_time": "2022-07-03T10:45:18.891901",
     "status": "completed"
    },
    "tags": []
   },
   "source": [
    "**In this plot you can see all the features, how important they are, and how they impact the prediction.**\n",
    "\n",
    "**When we compare the important features of the Shap values of the RandomForestRegressor with the other methods, we can again find many features, only the rank and order is changed a little bit.**"
   ]
  },
  {
   "cell_type": "markdown",
   "metadata": {
    "papermill": {
     "duration": 0.075034,
     "end_time": "2022-07-03T10:45:19.122191",
     "exception": false,
     "start_time": "2022-07-03T10:45:19.047157",
     "status": "completed"
    },
    "tags": []
   },
   "source": [
    "## 4.4 Recursive feature elimination"
   ]
  },
  {
   "cell_type": "markdown",
   "metadata": {
    "papermill": {
     "duration": 0.074694,
     "end_time": "2022-07-03T10:45:19.272145",
     "exception": false,
     "start_time": "2022-07-03T10:45:19.197451",
     "status": "completed"
    },
    "tags": []
   },
   "source": [
    "**Recursive feature elimination (RFE) works by analyzing the weights of a certain model.**\n",
    "\n",
    "**By recursively taking smaller and smaller sets of features depending on the weights of the features, it will return the most important N features of that model.**\n",
    "\n",
    "\n",
    "**RFE takes relatively long to compute compared to all other methods we used before.**\n",
    "\n",
    "**I tried it on my PC which has a better CPU than the kaggle notebooks use,  \n",
    "there it took about 10 minutes for n_features_to_select = 1, \n",
    "when i fed the entire X_train dataframe into the model.**\n",
    "\n",
    "\n",
    "**I will show you the top 15 features that RFE  estimates important for the RandomForestRegressor, the code I used is below,\n",
    "you can try letting it run here on kaggle, but i cannot tell you how long it will take.**"
   ]
  },
  {
   "cell_type": "code",
   "execution_count": null,
   "metadata": {
    "execution": {
     "iopub.execute_input": "2022-07-03T10:45:19.429293Z",
     "iopub.status.busy": "2022-07-03T10:45:19.428531Z",
     "iopub.status.idle": "2022-07-03T10:45:19.433281Z",
     "shell.execute_reply": "2022-07-03T10:45:19.432718Z"
    },
    "papermill": {
     "duration": 0.086424,
     "end_time": "2022-07-03T10:45:19.433412",
     "exception": false,
     "start_time": "2022-07-03T10:45:19.346988",
     "status": "completed"
    },
    "tags": []
   },
   "outputs": [],
   "source": [
    "#################################################################\n",
    "#  4.4  Recursive  Feature Elimination   (RFE)\n",
    "#################################################################\n",
    "\n",
    "'''\n",
    "from sklearn.feature_selection import RFE\n",
    "\n",
    "print(\"doing  recursive feature elimination...\")\n",
    "rfe = RFE(my_model, n_features_to_select=1)\n",
    "\n",
    "\n",
    "print(\"fitting...\")\n",
    "rfe.fit(X_train, y)\n",
    "\n",
    "from operator import itemgetter\n",
    "\n",
    "# you have to pass the list 'features' with all the features which you trained the model with\n",
    "for x, y in (sorted(zip(rfe.ranking_ , features), key=itemgetter(0))):   \n",
    "    print(x, y)     # this line will print the rank x and the name of the feature y\n",
    "'''\n",
    "\n",
    "###########################################################################################################################\n",
    "\n",
    "#  top 15  of the one run on my PC\n",
    "\n",
    "#1 OverallQual\n",
    "#2 GrLivArea\n",
    "#3 TotalBsmtSF\n",
    "#4 YearBuilt\n",
    "#5 GarageCars\n",
    "#6 1stFlrSF\n",
    "#7 BsmtFinSF1\n",
    "#8 GarageArea\n",
    "#9 LotArea\n",
    "#10 OverallCond\n",
    "#11 YearRemodAdd\n",
    "#12 CentralAir_Y\n",
    "#13 LotFrontage\n",
    "#14 BsmtUnfSF\n",
    "#15 2ndFlrSF"
   ]
  },
  {
   "cell_type": "markdown",
   "metadata": {
    "papermill": {
     "duration": 0.078154,
     "end_time": "2022-07-03T10:45:19.590676",
     "exception": false,
     "start_time": "2022-07-03T10:45:19.512522",
     "status": "completed"
    },
    "tags": []
   },
   "source": [
    "**When we compare this list of RFE with the other methods we have used so far,  we can find many features, some even at the same rank and position.**"
   ]
  },
  {
   "cell_type": "markdown",
   "metadata": {
    "papermill": {
     "duration": 0.077149,
     "end_time": "2022-07-03T10:45:19.743631",
     "exception": false,
     "start_time": "2022-07-03T10:45:19.666482",
     "status": "completed"
    },
    "tags": []
   },
   "source": [
    "# Thank you for reading my feature selection tutorial!\n",
    "\n",
    "# Feel free to comment or ask questions :)"
   ]
  }
 ],
 "metadata": {
  "kernelspec": {
   "display_name": "Python 3 (ipykernel)",
   "language": "python",
   "name": "python3"
  },
  "language_info": {
   "codemirror_mode": {
    "name": "ipython",
    "version": 3
   },
   "file_extension": ".py",
   "mimetype": "text/x-python",
   "name": "python",
   "nbconvert_exporter": "python",
   "pygments_lexer": "ipython3",
   "version": "3.12.9"
  },
  "papermill": {
   "duration": 139.518088,
   "end_time": "2022-07-03T10:45:19.930505",
   "environment_variables": {},
   "exception": null,
   "input_path": "__notebook__.ipynb",
   "output_path": "__notebook__.ipynb",
   "parameters": {},
   "start_time": "2022-07-03T10:43:00.412417",
   "version": "2.1.0"
  }
 },
 "nbformat": 4,
 "nbformat_minor": 4
}
